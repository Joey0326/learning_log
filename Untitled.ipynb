{
 "cells": [
  {
   "cell_type": "code",
   "execution_count": null,
   "metadata": {},
   "outputs": [],
   "source": [
    "%%bash\n",
    "python3 -m venv ll-env\n",
    "#在指定目录下创建python虚拟环境"
   ]
  },
  {
   "cell_type": "code",
   "execution_count": 14,
   "metadata": {},
   "outputs": [],
   "source": [
    "#激活虚拟环境\n",
    "%%bash\n",
    "source ll_env/bin/activate\n",
    "#stop venv\n",
    "#deativate"
   ]
  },
  {
   "cell_type": "code",
   "execution_count": 21,
   "metadata": {},
   "outputs": [
    {
     "name": "stdout",
     "output_type": "stream",
     "text": [
      "Requirement already satisfied: Django in /Library/Frameworks/Python.framework/Versions/3.6/lib/python3.6/site-packages (2.0.4)\n",
      "Requirement already satisfied: pytz in /Library/Frameworks/Python.framework/Versions/3.6/lib/python3.6/site-packages (from Django) (2018.4)\n"
     ]
    }
   ],
   "source": [
    "%%bash\n",
    "pip3 install Django\n",
    "#install django in venv"
   ]
  },
  {
   "cell_type": "code",
   "execution_count": 25,
   "metadata": {},
   "outputs": [
    {
     "name": "stdout",
     "output_type": "stream",
     "text": [
      "Untitled.ipynb\n",
      "learning_log\n",
      "ll_env\n",
      "manage.py\n"
     ]
    },
    {
     "name": "stderr",
     "output_type": "stream",
     "text": [
      "CommandError: /Users/joey/Desktop/Python_study/learning_log/manage.py already exists, overlaying a project or app into an existing directory won't replace conflicting files\n"
     ]
    }
   ],
   "source": [
    "%%bash\n",
    "#create new project,don't forget the '.' at the end\n",
    "django-admin.py startproject learning_log ."
   ]
  },
  {
   "cell_type": "code",
   "execution_count": 26,
   "metadata": {},
   "outputs": [
    {
     "name": "stdout",
     "output_type": "stream",
     "text": [
      "__init__.py  settings.py  urls.py      wsgi.py\r\n"
     ]
    }
   ],
   "source": [
    "ls learning_log"
   ]
  },
  {
   "cell_type": "code",
   "execution_count": 27,
   "metadata": {},
   "outputs": [
    {
     "name": "stdout",
     "output_type": "stream",
     "text": [
      "Operations to perform:\n",
      "  Apply all migrations: admin, auth, contenttypes, sessions\n",
      "Running migrations:\n",
      "  Applying contenttypes.0001_initial... OK\n",
      "  Applying auth.0001_initial... OK\n",
      "  Applying admin.0001_initial... OK\n",
      "  Applying admin.0002_logentry_remove_auto_add... OK\n",
      "  Applying contenttypes.0002_remove_content_type_name... OK\n",
      "  Applying auth.0002_alter_permission_name_max_length... OK\n",
      "  Applying auth.0003_alter_user_email_max_length... OK\n",
      "  Applying auth.0004_alter_user_username_opts... OK\n",
      "  Applying auth.0005_alter_user_last_login_null... OK\n",
      "  Applying auth.0006_require_contenttypes_0002... OK\n",
      "  Applying auth.0007_alter_validators_add_error_messages... OK\n",
      "  Applying auth.0008_alter_user_username_max_length... OK\n",
      "  Applying auth.0009_alter_user_last_name_max_length... OK\n",
      "  Applying sessions.0001_initial... OK\n"
     ]
    }
   ],
   "source": [
    "%%bash\n",
    "#create a database\n",
    "python3 manage.py migrate"
   ]
  },
  {
   "cell_type": "code",
   "execution_count": 32,
   "metadata": {},
   "outputs": [
    {
     "name": "stdout",
     "output_type": "stream",
     "text": [
      "Process is terminated.\n"
     ]
    }
   ],
   "source": [
    "%%bash\n",
    "python3 manage.py runserver\n",
    "#star a web server,you can open the url('localhost:8000) to interview"
   ]
  },
  {
   "cell_type": "code",
   "execution_count": 34,
   "metadata": {},
   "outputs": [],
   "source": [
    "%%bash\n",
    "python3 manage.py startapp learning_logs"
   ]
  },
  {
   "cell_type": "code",
   "execution_count": 36,
   "metadata": {},
   "outputs": [
    {
     "name": "stdout",
     "output_type": "stream",
     "text": [
      "__init__.py  apps.py      models.py    views.py\r\n",
      "admin.py     \u001b[34mmigrations\u001b[m\u001b[m/  tests.py\r\n"
     ]
    }
   ],
   "source": [
    "ls learning_logs/"
   ]
  },
  {
   "cell_type": "code",
   "execution_count": 41,
   "metadata": {},
   "outputs": [],
   "source": [
    "%%bash \n",
    "cd learning_logs\n",
    "open models.py\n",
    "#models文件用于管理应用程序的数据\n",
    "#在models里面设置一个topic类，里面两个属性，包括标题名称和时间戳还包含一个调用方法"
   ]
  },
  {
   "cell_type": "code",
   "execution_count": 51,
   "metadata": {},
   "outputs": [],
   "source": [
    "%%bash\n",
    "open settings.py\n",
    "#修改settings，将应用程序包含到setting中"
   ]
  },
  {
   "cell_type": "code",
   "execution_count": 55,
   "metadata": {},
   "outputs": [
    {
     "name": "stdout",
     "output_type": "stream",
     "text": [
      "Migrations for 'learning_logs':\n",
      "  learning_logs/migrations/0001_initial.py\n",
      "    - Create model Topic\n"
     ]
    }
   ],
   "source": [
    "%%bash\n",
    "python3 manage.py makemigrations learning_logs\n",
    "#调整数据库，使其适应刚刚添加的topic"
   ]
  },
  {
   "cell_type": "code",
   "execution_count": 57,
   "metadata": {},
   "outputs": [
    {
     "name": "stdout",
     "output_type": "stream",
     "text": [
      "Operations to perform:\n",
      "  Apply all migrations: admin, auth, contenttypes, learning_logs, sessions\n",
      "Running migrations:\n",
      "  Applying learning_logs.0001_initial... OK\n"
     ]
    }
   ],
   "source": [
    "%%bash\n",
    "python3 manage.py migrate\n",
    "#更新数据库"
   ]
  },
  {
   "cell_type": "code",
   "execution_count": 66,
   "metadata": {},
   "outputs": [
    {
     "name": "stdout",
     "output_type": "stream",
     "text": [
      "Superuser creation skipped due to not running in a TTY. You can run `manage.py createsuperuser` in your project to create one manually.\n"
     ]
    }
   ],
   "source": [
    "%%bash\n",
    "python3 manage.py createsuperuser\n",
    "#创建超级用户"
   ]
  },
  {
   "cell_type": "code",
   "execution_count": 72,
   "metadata": {},
   "outputs": [
    {
     "name": "stdout",
     "output_type": "stream",
     "text": [
      "/Users/joey/Desktop/Python_study/learning_log/learning_logs\n"
     ]
    }
   ],
   "source": [
    "cd learning_logs"
   ]
  },
  {
   "cell_type": "code",
   "execution_count": 74,
   "metadata": {},
   "outputs": [],
   "source": [
    "%%bash\n",
    "open admin.py\n",
    "#导入Topic"
   ]
  },
  {
   "cell_type": "code",
   "execution_count": 103,
   "metadata": {},
   "outputs": [],
   "source": [
    "%%bash\n",
    "cd learning_logs/\n",
    "open models.py\n",
    "#添加Entry类，表示具体学到了什么内容"
   ]
  },
  {
   "cell_type": "code",
   "execution_count": 105,
   "metadata": {},
   "outputs": [
    {
     "name": "stdout",
     "output_type": "stream",
     "text": [
      "No changes detected in app 'learning_logs'\n"
     ]
    }
   ],
   "source": [
    "%%bash\n",
    "python3 manage.py makemigrations learning_logs"
   ]
  },
  {
   "cell_type": "code",
   "execution_count": 106,
   "metadata": {},
   "outputs": [
    {
     "name": "stdout",
     "output_type": "stream",
     "text": [
      "Operations to perform:\n",
      "  Apply all migrations: admin, auth, contenttypes, learning_logs, sessions\n",
      "Running migrations:\n",
      "  No migrations to apply.\n"
     ]
    }
   ],
   "source": [
    "%%bash\n",
    "python3 manage.py migrate"
   ]
  },
  {
   "cell_type": "code",
   "execution_count": 97,
   "metadata": {},
   "outputs": [],
   "source": [
    "%%bash\n",
    "cd learning_logs/\n",
    "open admin.py\n",
    "#完成了数据库的修改和迁移后，要在admin文件中进行注册"
   ]
  },
  {
   "cell_type": "code",
   "execution_count": 99,
   "metadata": {},
   "outputs": [],
   "source": [
    "%%bash\n",
    "python3 manage.py shell\n",
    "#django shell"
   ]
  },
  {
   "cell_type": "code",
   "execution_count": 132,
   "metadata": {},
   "outputs": [],
   "source": [
    "%%bash\n",
    "open urls.py"
   ]
  },
  {
   "cell_type": "code",
   "execution_count": 135,
   "metadata": {},
   "outputs": [],
   "source": [
    "%%bash\n",
    "open views.py"
   ]
  },
  {
   "cell_type": "code",
   "execution_count": 167,
   "metadata": {},
   "outputs": [],
   "source": [
    "%%bash\n",
    "open urls.py"
   ]
  },
  {
   "cell_type": "code",
   "execution_count": 185,
   "metadata": {},
   "outputs": [],
   "source": [
    "%%bash\n",
    "open urls.py"
   ]
  },
  {
   "cell_type": "code",
   "execution_count": 179,
   "metadata": {},
   "outputs": [
    {
     "name": "stdout",
     "output_type": "stream",
     "text": [
      "__init__.py  admin.py     \u001b[34mmigrations\u001b[m\u001b[m/  \u001b[34mtemplates\u001b[m\u001b[m/   urls.py\r\n",
      "\u001b[34m__pycache__\u001b[m\u001b[m/ apps.py      models.py    tests.py     views.py\r\n"
     ]
    }
   ],
   "source": [
    "ls"
   ]
  },
  {
   "cell_type": "code",
   "execution_count": 192,
   "metadata": {},
   "outputs": [
    {
     "name": "stdout",
     "output_type": "stream",
     "text": [
      "Collecting django.core.urlresolvers\n"
     ]
    },
    {
     "name": "stderr",
     "output_type": "stream",
     "text": [
      "  Could not find a version that satisfies the requirement django.core.urlresolvers (from versions: )\n",
      "No matching distribution found for django.core.urlresolvers\n"
     ]
    }
   ],
   "source": [
    "%%bash\n",
    "pip3 install django.core.urlresolvers"
   ]
  },
  {
   "cell_type": "code",
   "execution_count": null,
   "metadata": {},
   "outputs": [],
   "source": []
  }
 ],
 "metadata": {
  "kernelspec": {
   "display_name": "Python 3",
   "language": "python",
   "name": "python3"
  },
  "language_info": {
   "codemirror_mode": {
    "name": "ipython",
    "version": 3
   },
   "file_extension": ".py",
   "mimetype": "text/x-python",
   "name": "python",
   "nbconvert_exporter": "python",
   "pygments_lexer": "ipython3",
   "version": "3.6.5"
  }
 },
 "nbformat": 4,
 "nbformat_minor": 2
}
